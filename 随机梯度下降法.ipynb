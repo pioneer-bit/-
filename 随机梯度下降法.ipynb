{
 "cells": [
  {
   "cell_type": "markdown",
   "metadata": {},
   "source": [
    "# 用平方损失函数，求导方便L(y,f(x))=(y−f(x))2  f(x)就是y冒\n",
    "\n",
    "## 1.构建数据集\n",
    "### $y=2*x$\n"
   ]
  },
  {
   "cell_type": "code",
   "execution_count": 146,
   "metadata": {},
   "outputs": [],
   "source": [
    "import numpy as np"
   ]
  },
  {
   "cell_type": "code",
   "execution_count": 147,
   "metadata": {},
   "outputs": [
    {
     "data": {
      "text/plain": [
       "array([ 0,  1,  2,  3,  4,  5,  6,  7,  8,  9, 10, 11, 12, 13, 14, 15, 16,\n",
       "       17, 18, 19, 20, 21, 22, 23, 24, 25, 26, 27, 28, 29, 30, 31, 32, 33,\n",
       "       34, 35, 36, 37, 38, 39, 40, 41, 42, 43, 44, 45, 46, 47, 48, 49])"
      ]
     },
     "execution_count": 147,
     "metadata": {},
     "output_type": "execute_result"
    }
   ],
   "source": [
    "X = np.arange(0,50)\n",
    "X"
   ]
  },
  {
   "cell_type": "code",
   "execution_count": 148,
   "metadata": {},
   "outputs": [
    {
     "data": {
      "text/plain": [
       "array([-0.82977995,  2.20324493, -4.99885625, -1.97667427, -3.53244109,\n",
       "       -4.07661405, -3.13739789, -1.54439273, -1.03232526,  0.38816734,\n",
       "       -0.80805486,  1.852195  , -2.9554775 ,  3.78117436, -4.72612407,\n",
       "        1.7046751 , -0.82695198,  0.58689828, -3.59613061, -3.01898511,\n",
       "        3.00744569,  4.68261576, -1.86575822,  1.92322616,  3.76389152,\n",
       "        3.94606664, -4.14955789, -4.60945217, -3.3016958 ,  3.78142503,\n",
       "       -4.01653166, -0.78892375,  4.5788953 ,  0.33165285,  1.91877114,\n",
       "       -1.84484369,  1.86500928,  3.34625672, -4.81711723,  2.50144315,\n",
       "        4.88861089,  2.48165654, -2.19556008,  2.89279328, -3.96773993,\n",
       "       -0.52106474,  4.08595503, -2.06385852, -2.12224661, -3.69971428])"
      ]
     },
     "execution_count": 148,
     "metadata": {},
     "output_type": "execute_result"
    }
   ],
   "source": [
    "# [-5,5]\n",
    "np.random.seed(1)#定义种子，让我们每次取的随机值都差不多 0-1之间\n",
    "RandomArray = (np.random.random(50)*2-1)*5 #[-5,5]由来，【0-1】乘以2变成【0-2】,【0-2】减一变成【-1，1】，【-1，1】乘5变成【-5，5】\n",
    "RandomArray"
   ]
  },
  {
   "cell_type": "code",
   "execution_count": 149,
   "metadata": {},
   "outputs": [
    {
     "data": {
      "text/plain": [
       "array([-0.82977995,  4.20324493, -0.99885625,  4.02332573,  4.46755891,\n",
       "        5.92338595,  8.86260211, 12.45560727, 14.96767474, 18.38816734,\n",
       "       19.19194514, 23.852195  , 21.0445225 , 29.78117436, 23.27387593,\n",
       "       31.7046751 , 31.17304802, 34.58689828, 32.40386939, 34.98101489,\n",
       "       43.00744569, 46.68261576, 42.13424178, 47.92322616, 51.76389152,\n",
       "       53.94606664, 47.85044211, 49.39054783, 52.6983042 , 61.78142503,\n",
       "       55.98346834, 61.21107625, 68.5788953 , 66.33165285, 69.91877114,\n",
       "       68.15515631, 73.86500928, 77.34625672, 71.18288277, 80.50144315,\n",
       "       84.88861089, 84.48165654, 81.80443992, 88.89279328, 84.03226007,\n",
       "       89.47893526, 96.08595503, 91.93614148, 93.87775339, 94.30028572])"
      ]
     },
     "execution_count": 149,
     "metadata": {},
     "output_type": "execute_result"
    }
   ],
   "source": [
    "y = 2 * X + RandomArray #加上噪声值\n",
    "y"
   ]
  },
  {
   "cell_type": "code",
   "execution_count": 150,
   "metadata": {},
   "outputs": [],
   "source": [
    "import matplotlib.pyplot as plt # pip install matplotlib"
   ]
  },
  {
   "cell_type": "code",
   "execution_count": 151,
   "metadata": {},
   "outputs": [
    {
     "data": {
      "text/plain": [
       "<matplotlib.collections.PathCollection at 0x1bdc3a89310>"
      ]
     },
     "execution_count": 151,
     "metadata": {},
     "output_type": "execute_result"
    },
    {
     "data": {
      "image/png": "[encoded data removed]",
      "text/plain": [
       "<Figure size 432x288 with 1 Axes>"
      ]
     },
     "metadata": {
      "needs_background": "light"
     },
     "output_type": "display_data"
    }
   ],
   "source": [
    "plt.scatter(X,y)"
   ]
  },
  {
   "cell_type": "code",
   "execution_count": 152,
   "metadata": {},
   "outputs": [
    {
     "data": {
      "text/plain": [
       "((50,), (50,))"
      ]
     },
     "execution_count": 152,
     "metadata": {},
     "output_type": "execute_result"
    }
   ],
   "source": [
    "X.shape , y.shape #都是一个一位数组"
   ]
  },
  {
   "cell_type": "code",
   "execution_count": 153,
   "metadata": {},
   "outputs": [],
   "source": [
    "X = X.reshape(50,1)\n",
    "y = y.reshape(50,1)\n"
   ]
  },
  {
   "cell_type": "code",
   "execution_count": 154,
   "metadata": {},
   "outputs": [
    {
     "data": {
      "text/plain": [
       "array([[ 0.        , -0.82977995],\n",
       "       [ 1.        ,  4.20324493],\n",
       "       [ 2.        , -0.99885625],\n",
       "       [ 3.        ,  4.02332573],\n",
       "       [ 4.        ,  4.46755891],\n",
       "       [ 5.        ,  5.92338595],\n",
       "       [ 6.        ,  8.86260211],\n",
       "       [ 7.        , 12.45560727],\n",
       "       [ 8.        , 14.96767474],\n",
       "       [ 9.        , 18.38816734],\n",
       "       [10.        , 19.19194514],\n",
       "       [11.        , 23.852195  ],\n",
       "       [12.        , 21.0445225 ],\n",
       "       [13.        , 29.78117436],\n",
       "       [14.        , 23.27387593],\n",
       "       [15.        , 31.7046751 ],\n",
       "       [16.        , 31.17304802],\n",
       "       [17.        , 34.58689828],\n",
       "       [18.        , 32.40386939],\n",
       "       [19.        , 34.98101489],\n",
       "       [20.        , 43.00744569],\n",
       "       [21.        , 46.68261576],\n",
       "       [22.        , 42.13424178],\n",
       "       [23.        , 47.92322616],\n",
       "       [24.        , 51.76389152],\n",
       "       [25.        , 53.94606664],\n",
       "       [26.        , 47.85044211],\n",
       "       [27.        , 49.39054783],\n",
       "       [28.        , 52.6983042 ],\n",
       "       [29.        , 61.78142503],\n",
       "       [30.        , 55.98346834],\n",
       "       [31.        , 61.21107625],\n",
       "       [32.        , 68.5788953 ],\n",
       "       [33.        , 66.33165285],\n",
       "       [34.        , 69.91877114],\n",
       "       [35.        , 68.15515631],\n",
       "       [36.        , 73.86500928],\n",
       "       [37.        , 77.34625672],\n",
       "       [38.        , 71.18288277],\n",
       "       [39.        , 80.50144315],\n",
       "       [40.        , 84.88861089],\n",
       "       [41.        , 84.48165654],\n",
       "       [42.        , 81.80443992],\n",
       "       [43.        , 88.89279328],\n",
       "       [44.        , 84.03226007],\n",
       "       [45.        , 89.47893526],\n",
       "       [46.        , 96.08595503],\n",
       "       [47.        , 91.93614148],\n",
       "       [48.        , 93.87775339],\n",
       "       [49.        , 94.30028572]])"
      ]
     },
     "execution_count": 154,
     "metadata": {},
     "output_type": "execute_result"
    }
   ],
   "source": [
    "All_data = np.concatenate((X,y),axis=1) #数据集拼接 直接拼接到后面不是我们想要的！！把X和y变成50行一列,默认按行拼接，所以我们要按第二个维度就是按列拼接\n",
    "All_data"
   ]
  },
  {
   "cell_type": "markdown",
   "metadata": {},
   "source": [
    "### 划分样本为训练集D和测试集V ，一般情况下训练集比测试集要多一倍\n",
    "#### 4:1 "
   ]
  },
  {
   "cell_type": "code",
   "execution_count": 155,
   "metadata": {},
   "outputs": [
    {
     "data": {
      "text/plain": [
       "array([[ 5.        ,  5.92338595],\n",
       "       [29.        , 61.78142503],\n",
       "       [ 9.        , 18.38816734],\n",
       "       [22.        , 42.13424178],\n",
       "       [33.        , 66.33165285],\n",
       "       [16.        , 31.17304802],\n",
       "       [49.        , 94.30028572],\n",
       "       [35.        , 68.15515631],\n",
       "       [31.        , 61.21107625],\n",
       "       [36.        , 73.86500928],\n",
       "       [18.        , 32.40386939],\n",
       "       [14.        , 23.27387593],\n",
       "       [ 4.        ,  4.46755891],\n",
       "       [41.        , 84.48165654],\n",
       "       [27.        , 49.39054783],\n",
       "       [48.        , 93.87775339],\n",
       "       [46.        , 96.08595503],\n",
       "       [26.        , 47.85044211],\n",
       "       [47.        , 91.93614148],\n",
       "       [11.        , 23.852195  ],\n",
       "       [12.        , 21.0445225 ],\n",
       "       [ 2.        , -0.99885625],\n",
       "       [39.        , 80.50144315],\n",
       "       [21.        , 46.68261576],\n",
       "       [20.        , 43.00744569],\n",
       "       [ 6.        ,  8.86260211],\n",
       "       [30.        , 55.98346834],\n",
       "       [44.        , 84.03226007],\n",
       "       [ 0.        , -0.82977995],\n",
       "       [ 3.        ,  4.02332573],\n",
       "       [13.        , 29.78117436],\n",
       "       [17.        , 34.58689828],\n",
       "       [ 1.        ,  4.20324493],\n",
       "       [40.        , 84.88861089],\n",
       "       [24.        , 51.76389152],\n",
       "       [45.        , 89.47893526],\n",
       "       [43.        , 88.89279328],\n",
       "       [28.        , 52.6983042 ],\n",
       "       [ 7.        , 12.45560727],\n",
       "       [25.        , 53.94606664],\n",
       "       [42.        , 81.80443992],\n",
       "       [15.        , 31.7046751 ],\n",
       "       [23.        , 47.92322616],\n",
       "       [10.        , 19.19194514],\n",
       "       [34.        , 69.91877114],\n",
       "       [32.        , 68.5788953 ],\n",
       "       [ 8.        , 14.96767474],\n",
       "       [38.        , 71.18288277],\n",
       "       [19.        , 34.98101489],\n",
       "       [37.        , 77.34625672]])"
      ]
     },
     "execution_count": 155,
     "metadata": {},
     "output_type": "execute_result"
    }
   ],
   "source": [
    "np.random.shuffle(All_data)#随机打乱数据\n",
    "All_data"
   ]
  },
  {
   "cell_type": "code",
   "execution_count": 156,
   "metadata": {},
   "outputs": [],
   "source": [
    "train_data = All_data[:40] #训练集取前40个"
   ]
  },
  {
   "cell_type": "code",
   "execution_count": 157,
   "metadata": {},
   "outputs": [],
   "source": [
    "test_data = All_data[40:]#测试集取剩下的10个"
   ]
  },
  {
   "cell_type": "code",
   "execution_count": 158,
   "metadata": {},
   "outputs": [
    {
     "data": {
      "text/plain": [
       "(array([[ 5.        ,  5.92338595],\n",
       "        [29.        , 61.78142503],\n",
       "        [ 9.        , 18.38816734],\n",
       "        [22.        , 42.13424178],\n",
       "        [33.        , 66.33165285],\n",
       "        [16.        , 31.17304802],\n",
       "        [49.        , 94.30028572],\n",
       "        [35.        , 68.15515631],\n",
       "        [31.        , 61.21107625],\n",
       "        [36.        , 73.86500928],\n",
       "        [18.        , 32.40386939],\n",
       "        [14.        , 23.27387593],\n",
       "        [ 4.        ,  4.46755891],\n",
       "        [41.        , 84.48165654],\n",
       "        [27.        , 49.39054783],\n",
       "        [48.        , 93.87775339],\n",
       "        [46.        , 96.08595503],\n",
       "        [26.        , 47.85044211],\n",
       "        [47.        , 91.93614148],\n",
       "        [11.        , 23.852195  ],\n",
       "        [12.        , 21.0445225 ],\n",
       "        [ 2.        , -0.99885625],\n",
       "        [39.        , 80.50144315],\n",
       "        [21.        , 46.68261576],\n",
       "        [20.        , 43.00744569],\n",
       "        [ 6.        ,  8.86260211],\n",
       "        [30.        , 55.98346834],\n",
       "        [44.        , 84.03226007],\n",
       "        [ 0.        , -0.82977995],\n",
       "        [ 3.        ,  4.02332573],\n",
       "        [13.        , 29.78117436],\n",
       "        [17.        , 34.58689828],\n",
       "        [ 1.        ,  4.20324493],\n",
       "        [40.        , 84.88861089],\n",
       "        [24.        , 51.76389152],\n",
       "        [45.        , 89.47893526],\n",
       "        [43.        , 88.89279328],\n",
       "        [28.        , 52.6983042 ],\n",
       "        [ 7.        , 12.45560727],\n",
       "        [25.        , 53.94606664]]),\n",
       " array([[42.        , 81.80443992],\n",
       "        [15.        , 31.7046751 ],\n",
       "        [23.        , 47.92322616],\n",
       "        [10.        , 19.19194514],\n",
       "        [34.        , 69.91877114],\n",
       "        [32.        , 68.5788953 ],\n",
       "        [ 8.        , 14.96767474],\n",
       "        [38.        , 71.18288277],\n",
       "        [19.        , 34.98101489],\n",
       "        [37.        , 77.34625672]]))"
      ]
     },
     "execution_count": 158,
     "metadata": {},
     "output_type": "execute_result"
    }
   ],
   "source": [
    "train_data,test_data"
   ]
  },
  {
   "cell_type": "code",
   "execution_count": 159,
   "metadata": {},
   "outputs": [
    {
     "data": {
      "text/plain": [
       "16.51220018240119"
      ]
     },
     "execution_count": 159,
     "metadata": {},
     "output_type": "execute_result"
    }
   ],
   "source": [
    "np.sum(All_data[:,0]*2 - All_data[:,1]) #差16 本身差16 最优就是16 其实就是所有的差距之和 相当于最优损失（我猜的）"
   ]
  },
  {
   "attachments": {
    "7dbad518-ab3e-4adf-b236-4424a48aaee9.png": {
     "image/png": "[encoded data removed]"
    }
   },
   "cell_type": "markdown",
   "metadata": {},
   "source": [
    "## SGD算法实现\n",
    "![SDG.png](attachment:7dbad518-ab3e-4adf-b236-4424a48aaee9.png)"
   ]
  },
  {
   "cell_type": "code",
   "execution_count": 160,
   "metadata": {},
   "outputs": [],
   "source": [
    "#超参数\n",
    "lr = 0.00001 #学习率 就是那个学习率α\n",
    "N = 100\n",
    "epsilon = 200 #这玩意就是 aibuciteng 小的正数"
   ]
  },
  {
   "cell_type": "code",
   "execution_count": 161,
   "metadata": {},
   "outputs": [
    {
     "data": {
      "text/plain": [
       "0.8833060912058098"
      ]
     },
     "execution_count": 161,
     "metadata": {},
     "output_type": "execute_result"
    }
   ],
   "source": [
    "#参数\n",
    "theta = np.random.rand() #就是参数Θ\n",
    "theta "
   ]
  },
  {
   "cell_type": "code",
   "execution_count": 162,
   "metadata": {},
   "outputs": [
    {
     "data": {
      "text/plain": [
       "(26.0, 47.85044211369778)"
      ]
     },
     "execution_count": 162,
     "metadata": {},
     "output_type": "execute_result"
    }
   ],
   "source": [
    "randint = np.random.randint(0,40) #0到四十随机取一个数\n",
    "rand_x = train_data[randint][0]\n",
    "rand_y = train_data[randint][1]\n",
    "rand_x,rand_y"
   ]
  },
  {
   "cell_type": "code",
   "execution_count": 163,
   "metadata": {},
   "outputs": [
    {
     "name": "stdout",
     "output_type": "stream",
     "text": [
      "Number: 1 ,theta: 1.535840,loss: 3644.345716\n",
      "Number: 2 ,theta: 1.790802,loss: 885.887444\n",
      "Number: 3 ,theta: 1.914776,loss: 305.387787\n",
      "Number: 4 ,theta: 1.949432,loss: 232.143129\n",
      "Number: 5 ,theta: 1.967172,loss: 209.702990\n",
      "Number: 6 ,theta: 1.986021,loss: 197.028852\n"
     ]
    }
   ],
   "source": [
    "Num=1\n",
    "theta_list=[]\n",
    "loss_list=[]\n",
    "while True:\n",
    "    #重新排序 训练集D\n",
    "    np.random.shuffle(train_data)\n",
    "    for n in range(N):\n",
    "        #取随机样本\n",
    "        randint = np.random.randint(0,40) #0到四十随机取一个数,作为初始点开始进行梯度下降算法\n",
    "        rand_x = train_data[randint][0]\n",
    "        rand_y = train_data[randint][1]\n",
    "\n",
    "        #计算梯度\n",
    "        grad = rand_x * (rand_x * theta - rand_y) #求导过后的结果\n",
    "        #更新参数Θ\n",
    "        theta = theta -lr * grad\n",
    "    #计算更新theta后的错误率\n",
    "    X = train_data[:,0]#每行的第一个值(所有的X)\n",
    "    y = train_data[:,1]#每行的第二个值(所有的y)\n",
    "    \n",
    "    loss = np.sum(0.5*((theta*X - y)**2)) #平方损失函数 sum求所有平方损失函数之和\n",
    "                  \n",
    "    print(\"Number: %d ,theta: %f,loss: %f\"%(Num,theta,loss))\n",
    "    Num =Num + 1\n",
    "    theta_list.append(theta)\n",
    "    loss_list.append(loss)\n",
    "    if loss < epsilon:\n",
    "        break"
   ]
  },
  {
   "cell_type": "code",
   "execution_count": 164,
   "metadata": {},
   "outputs": [
    {
     "data": {
      "text/plain": [
       "[<matplotlib.lines.Line2D at 0x1bdc3603580>]"
      ]
     },
     "execution_count": 164,
     "metadata": {},
     "output_type": "execute_result"
    },
    {
     "data": {
      "image/png": "[encoded data removed]",
      "text/plain": [
       "<Figure size 432x288 with 1 Axes>"
      ]
     },
     "metadata": {
      "needs_background": "light"
     },
     "output_type": "display_data"
    }
   ],
   "source": [
    "#画图\n",
    "plt.plot(range(len(theta_list)),theta_list)"
   ]
  },
  {
   "cell_type": "code",
   "execution_count": 165,
   "metadata": {},
   "outputs": [
    {
     "data": {
      "text/plain": [
       "[<matplotlib.lines.Line2D at 0x1bdc36398b0>]"
      ]
     },
     "execution_count": 165,
     "metadata": {},
     "output_type": "execute_result"
    },
    {
     "data": {
      "image/png": "[encoded data removed]",
      "text/plain": [
       "<Figure size 432x288 with 1 Axes>"
      ]
     },
     "metadata": {
      "needs_background": "light"
     },
     "output_type": "display_data"
    }
   ],
   "source": [
    "plt.plot(range(len(loss_list)),loss_list)"
   ]
  }
 ],
 "metadata": {
  "kernelspec": {
   "display_name": "Python 3",
   "language": "python",
   "name": "python3"
  },
  "language_info": {
   "codemirror_mode": {
    "name": "ipython",
    "version": 3
   },
   "file_extension": ".py",
   "mimetype": "text/x-python",
   "name": "python",
   "nbconvert_exporter": "python",
   "pygments_lexer": "ipython3",
   "version": "3.8.5"
  }
 },
 "nbformat": 4,
 "nbformat_minor": 4
}
