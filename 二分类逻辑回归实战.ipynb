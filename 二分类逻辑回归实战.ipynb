{
 "cells": [
  {
   "cell_type": "code",
   "execution_count": 267,
   "metadata": {},
   "outputs": [],
   "source": [
    "import numpy as np"
   ]
  },
  {
   "cell_type": "code",
   "execution_count": 268,
   "metadata": {},
   "outputs": [],
   "source": [
    "import matplotlib.pyplot as plt"
   ]
  },
  {
   "cell_type": "code",
   "execution_count": 269,
   "metadata": {},
   "outputs": [],
   "source": [
    "np.random.seed(0)#设置一个种子让我们每次取的值都是一样的\n",
    "Num = 100"
   ]
  },
  {
   "cell_type": "code",
   "execution_count": 270,
   "metadata": {},
   "outputs": [
    {
     "data": {
      "text/plain": [
       "(3, 100)"
      ]
     },
     "execution_count": 270,
     "metadata": {},
     "output_type": "execute_result"
    }
   ],
   "source": [
    "# X(x1,x2) y 0/1  数据集\n",
    "# y = 1\n",
    "x_1 = np.random.normal(6,1,size=(Num)) # 三个参数分别是 中心点 方差 多大\n",
    "x_2 = np.random.normal(3,1,size=(Num))\n",
    "#x_2\n",
    "y = np.ones(Num)     \n",
    "#y\n",
    "c_1 = np.array([x_1,x_2,y])# 三行100列 不方便看 转变为3列100行在后面\n",
    "c_1.shape\n",
    "# c_1"
   ]
  },
  {
   "cell_type": "code",
   "execution_count": 271,
   "metadata": {},
   "outputs": [
    {
     "data": {
      "text/plain": [
       "(3, 100)"
      ]
     },
     "execution_count": 271,
     "metadata": {},
     "output_type": "execute_result"
    }
   ],
   "source": [
    "# y = 0\n",
    "x_1 = np.random.normal(3,1,size=(Num)) # 三个参数分别是 中心点 方差 多大\n",
    "x_2 = np.random.normal(6,1,size=(Num)) #不让他们重合 这里将他们反过来\n",
    "#x_2\n",
    "y = np.zeros(Num)     \n",
    "#y\n",
    "c_0 = np.array([x_1,x_2,y])# 三行100列\n",
    "c_0.shape"
   ]
  },
  {
   "cell_type": "code",
   "execution_count": 272,
   "metadata": {},
   "outputs": [],
   "source": [
    "c_1 = c_1.T\n",
    "c_0 = c_0.T\n",
    "# c_1\n",
    "# c_0"
   ]
  },
  {
   "cell_type": "code",
   "execution_count": 273,
   "metadata": {},
   "outputs": [
    {
     "data": {
      "text/plain": [
       "<matplotlib.collections.PathCollection at 0x280c97e9d60>"
      ]
     },
     "execution_count": 273,
     "metadata": {},
     "output_type": "execute_result"
    },
    {
     "data": {
      "image/png": "[encoded data removed]",
      "text/plain": [
       "<Figure size 432x288 with 1 Axes>"
      ]
     },
     "metadata": {
      "needs_background": "light"
     },
     "output_type": "display_data"
    }
   ],
   "source": [
    "plt.scatter(c_1[:,0],c_1[:,1])\n",
    "plt.scatter(c_0[:,0],c_0[:,1],marker = '+')"
   ]
  },
  {
   "cell_type": "code",
   "execution_count": 274,
   "metadata": {},
   "outputs": [
    {
     "data": {
      "text/plain": [
       "(200, 3)"
      ]
     },
     "execution_count": 274,
     "metadata": {},
     "output_type": "execute_result"
    }
   ],
   "source": [
    "All_data = np.concatenate((c_1,c_0))\n",
    "All_data.shape  #在行上进行拼接所以变成200,3"
   ]
  },
  {
   "cell_type": "code",
   "execution_count": 275,
   "metadata": {},
   "outputs": [],
   "source": [
    "np.random.shuffle(All_data)#,将这个200行打乱,一般是shuffle第一个维度也就是行"
   ]
  },
  {
   "cell_type": "code",
   "execution_count": 276,
   "metadata": {},
   "outputs": [
    {
     "data": {
      "text/plain": [
       "((150, 2), (150,), (50, 2), (50,))"
      ]
     },
     "execution_count": 276,
     "metadata": {},
     "output_type": "execute_result"
    }
   ],
   "source": [
    "train_data_X = All_data[:150,:2]#取前150个 头两列 []  :2 一边闭合一边开是一个区间\n",
    "train_data_y = All_data[:150,-1] #-1就是去最后一列也可以写3\n",
    "test_data_X = All_data[150:,:2] #取后50个\n",
    "test_data_y = All_data[150:,-1]\n",
    "train_data_X.shape,train_data_y.shape,test_data_X.shape,test_data_y.shape"
   ]
  },
  {
   "cell_type": "code",
   "execution_count": 277,
   "metadata": {},
   "outputs": [
    {
     "data": {
      "text/plain": [
       "array([[0.05853492],\n",
       "       [0.4706209 ]])"
      ]
     },
     "execution_count": 277,
     "metadata": {},
     "output_type": "execute_result"
    }
   ],
   "source": [
    " # y = w1*x1 + w2*x2\n",
    "W = np.random.rand(2,1)\n",
    "W"
   ]
  },
  {
   "cell_type": "code",
   "execution_count": 278,
   "metadata": {},
   "outputs": [
    {
     "data": {
      "text/plain": [
       "[<matplotlib.lines.Line2D at 0x280c9814bb0>]"
      ]
     },
     "execution_count": 278,
     "metadata": {},
     "output_type": "execute_result"
    },
    {
     "data": {
      "image/png": "[encoded data removed]",
      "text/plain": [
       "<Figure size 432x288 with 1 Axes>"
      ]
     },
     "metadata": {
      "needs_background": "light"
     },
     "output_type": "display_data"
    }
   ],
   "source": [
    " # y = w1*x1 + w2*x2 = 0\n",
    " # w1 *x + w2*y=0 在这里x1变成了x,x2变成了y\n",
    "plt.scatter(c_1[:,0],c_1[:,1])\n",
    "plt.scatter(c_0[:,0],c_0[:,1],marker = '+')\n",
    "x = np.arange(10)\n",
    "y = -(W[0]*x)/W[1]\n",
    "plt.plot(x,y)"
   ]
  },
  {
   "cell_type": "code",
   "execution_count": 279,
   "metadata": {},
   "outputs": [],
   "source": [
    "#定义损失函数 交叉熵\n",
    "def cross_entropy(y,y_hat):\n",
    "    return -np.mean(y*np.log(y_hat) + (1-y)*np.log(1-y_hat))"
   ]
  },
  {
   "cell_type": "code",
   "execution_count": 280,
   "metadata": {},
   "outputs": [],
   "source": [
    "# y_hat = sigmoid(w*x)\n",
    "def sigmoid(z):\n",
    "    return 1/(1+np.exp(-z))\n"
   ]
  },
  {
   "cell_type": "code",
   "execution_count": 281,
   "metadata": {},
   "outputs": [
    {
     "data": {
      "text/plain": [
       "((2, 1), (150, 2))"
      ]
     },
     "execution_count": 281,
     "metadata": {},
     "output_type": "execute_result"
    }
   ],
   "source": [
    "W.shape,train_data_X.shape"
   ]
  },
  {
   "cell_type": "code",
   "execution_count": 282,
   "metadata": {},
   "outputs": [
    {
     "name": "stdout",
     "output_type": "stream",
     "text": [
      "i:1, loss: 1.550297\n",
      "i:101, loss: 1.015961\n",
      "i:201, loss: 0.773526\n",
      "i:301, loss: 0.646451\n",
      "i:401, loss: 0.559007\n",
      "i:501, loss: 0.492438\n",
      "i:601, loss: 0.440117\n",
      "i:701, loss: 0.398211\n",
      "i:801, loss: 0.364087\n",
      "i:901, loss: 0.335871\n"
     ]
    }
   ],
   "source": [
    "lr = 0.001#学习率\n",
    "loss_ = []\n",
    "for i  in range(1000):\n",
    "    #计算loss\n",
    "    y_hat = sigmoid(np.dot(W.T,train_data_X.T))\n",
    "    loss = cross_entropy(train_data_y,y_hat)\n",
    "    #计算梯度\n",
    "    grad = - np.mean((train_data_X*(train_data_y-y_hat).T),axis = 0 )\n",
    "    #更新W\n",
    "    W = W - (lr*grad).reshape(2,1)\n",
    "    #输出loss\n",
    "    loss_.append(loss)\n",
    "    if i%100 == 1:\n",
    "        print('i:%d, loss: %f'%(i,loss))\n",
    "    if loss<0.1:\n",
    "        break"
   ]
  },
  {
   "cell_type": "code",
   "execution_count": 283,
   "metadata": {},
   "outputs": [
    {
     "data": {
      "text/plain": [
       "array([[ 0.37115813],\n",
       "       [-0.36219734]])"
      ]
     },
     "execution_count": 283,
     "metadata": {},
     "output_type": "execute_result"
    }
   ],
   "source": [
    "W"
   ]
  },
  {
   "cell_type": "code",
   "execution_count": 284,
   "metadata": {},
   "outputs": [
    {
     "data": {
      "text/plain": [
       "[<matplotlib.lines.Line2D at 0x280c98ceeb0>]"
      ]
     },
     "execution_count": 284,
     "metadata": {},
     "output_type": "execute_result"
    },
    {
     "data": {
      "image/png": "[encoded data removed]",
      "text/plain": [
       "<Figure size 432x288 with 1 Axes>"
      ]
     },
     "metadata": {
      "needs_background": "light"
     },
     "output_type": "display_data"
    }
   ],
   "source": [
    "plt.scatter(c_1[:,0],c_1[:,1])\n",
    "plt.scatter(c_0[:,0],c_0[:,1],marker = '+')\n",
    "x = np.arange(10)\n",
    "y = -(W[0]*x)/W[1]\n",
    "plt.plot(x,y)"
   ]
  },
  {
   "cell_type": "code",
   "execution_count": 285,
   "metadata": {},
   "outputs": [
    {
     "data": {
      "text/plain": [
       "[<matplotlib.lines.Line2D at 0x280c9918eb0>]"
      ]
     },
     "execution_count": 285,
     "metadata": {},
     "output_type": "execute_result"
    },
    {
     "data": {
      "image/png": "[encoded data removed]",
      "text/plain": [
       "<Figure size 432x288 with 1 Axes>"
      ]
     },
     "metadata": {
      "needs_background": "light"
     },
     "output_type": "display_data"
    }
   ],
   "source": [
    "plt.plot(loss_)"
   ]
  },
  {
   "cell_type": "code",
   "execution_count": 286,
   "metadata": {},
   "outputs": [
    {
     "data": {
      "text/plain": [
       "(50, 2)"
      ]
     },
     "execution_count": 286,
     "metadata": {},
     "output_type": "execute_result"
    }
   ],
   "source": [
    "#预测\n",
    "# y_hat = w1*x1+w2*x2 \n",
    "test_data_X.shape"
   ]
  },
  {
   "cell_type": "code",
   "execution_count": 287,
   "metadata": {},
   "outputs": [
    {
     "data": {
      "text/plain": [
       "1.0"
      ]
     },
     "execution_count": 287,
     "metadata": {},
     "output_type": "execute_result"
    }
   ],
   "source": [
    "y_hat = np.dot(W.T,test_data_X.T)\n",
    "y_pred = np.array(y_hat>0,dtype=int).flatten()\n",
    "test_acc = np.sum(test_data_y==y_pred)/len(y_pred)\n",
    "test_acc"
   ]
  },
  {
   "cell_type": "code",
   "execution_count": 298,
   "metadata": {},
   "outputs": [],
   "source": []
  },
  {
   "cell_type": "code",
   "execution_count": null,
   "metadata": {},
   "outputs": [],
   "source": []
  },
  {
   "cell_type": "code",
   "execution_count": 299,
   "metadata": {},
   "outputs": [
    {
     "data": {
      "text/plain": [
       "(1, 3)"
      ]
     },
     "execution_count": 299,
     "metadata": {},
     "output_type": "execute_result"
    }
   ],
   "source": []
  },
  {
   "cell_type": "code",
   "execution_count": null,
   "metadata": {},
   "outputs": [],
   "source": []
  }
 ],
 "metadata": {
  "kernelspec": {
   "display_name": "Python 3",
   "language": "python",
   "name": "python3"
  },
  "language_info": {
   "codemirror_mode": {
    "name": "ipython",
    "version": 3
   },
   "file_extension": ".py",
   "mimetype": "text/x-python",
   "name": "python",
   "nbconvert_exporter": "python",
   "pygments_lexer": "ipython3",
   "version": "3.8.5"
  }
 },
 "nbformat": 4,
 "nbformat_minor": 4
}
