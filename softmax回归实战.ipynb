{
 "cells": [
  {
   "cell_type": "code",
   "execution_count": 249,
   "metadata": {},
   "outputs": [],
   "source": [
    "# X(X1,X2) y(0/1/2/3/)  二元四个分类\n",
    "import numpy as np\n",
    "import matplotlib.pyplot as plt"
   ]
  },
  {
   "cell_type": "code",
   "execution_count": 250,
   "metadata": {},
   "outputs": [],
   "source": [
    "np.random.seed(0)\n",
    "Num = 100"
   ]
  },
  {
   "cell_type": "code",
   "execution_count": 251,
   "metadata": {},
   "outputs": [],
   "source": [
    "x_1 = np.random.normal(-3,1,size=(Num)) # 三个参数分别是 中心点 方差 多大\n",
    "x_2 = np.random.normal(-3,1,size=(Num)) #不让他们重合 这里将他们反过来\n",
    "y = np.zeros(Num)     \n",
    "c_0 = np.array([x_1,x_2,y]) # 0分类"
   ]
  },
  {
   "cell_type": "code",
   "execution_count": 252,
   "metadata": {},
   "outputs": [],
   "source": [
    "x_1 = np.random.normal(3,1,size=(Num)) # 三个参数分别是 中心点 方差 多大\n",
    "x_2 = np.random.normal(-3,1,size=(Num)) #不让他们重合 这里将他们反过来\n",
    "y = np.ones(Num)     \n",
    "c_1 = np.array([x_1,x_2,y]) # 1分类"
   ]
  },
  {
   "cell_type": "code",
   "execution_count": 253,
   "metadata": {},
   "outputs": [],
   "source": [
    "x_1 = np.random.normal(-3,1,size=(Num)) # 三个参数分别是 中心点 方差 多大\n",
    "x_2 = np.random.normal(3,1,size=(Num)) #不让他们重合 这里将他们反过来\n",
    "y = np.ones(Num)*2    \n",
    "c_2 = np.array([x_1,x_2,y]) # 2分类"
   ]
  },
  {
   "cell_type": "code",
   "execution_count": 254,
   "metadata": {},
   "outputs": [],
   "source": [
    "x_1 = np.random.normal(3,1,size=(Num)) # 三个参数分别是 中心点 方差 多大\n",
    "x_2 = np.random.normal(3,1,size=(Num)) #不让他们重合 这里将他们反过来\n",
    "y = np.ones(Num)*3    \n",
    "c_3 = np.array([x_1,x_2,y]) # 3分类"
   ]
  },
  {
   "cell_type": "code",
   "execution_count": 255,
   "metadata": {},
   "outputs": [
    {
     "data": {
      "text/plain": [
       "(3, 100)"
      ]
     },
     "execution_count": 255,
     "metadata": {},
     "output_type": "execute_result"
    }
   ],
   "source": [
    "c_0.shape"
   ]
  },
  {
   "cell_type": "code",
   "execution_count": 256,
   "metadata": {},
   "outputs": [
    {
     "data": {
      "text/plain": [
       "(100, 3)"
      ]
     },
     "execution_count": 256,
     "metadata": {},
     "output_type": "execute_result"
    }
   ],
   "source": [
    "c_0=c_0.T\n",
    "c_1=c_1.T\n",
    "c_2=c_2.T\n",
    "c_3=c_3.T\n",
    "c_0.shape"
   ]
  },
  {
   "cell_type": "code",
   "execution_count": 257,
   "metadata": {},
   "outputs": [],
   "source": [
    "#c_0"
   ]
  },
  {
   "cell_type": "code",
   "execution_count": 258,
   "metadata": {},
   "outputs": [
    {
     "data": {
      "text/plain": [
       "<matplotlib.collections.PathCollection at 0x21f5edde520>"
      ]
     },
     "execution_count": 258,
     "metadata": {},
     "output_type": "execute_result"
    },
    {
     "data": {
      "image/png": "[encoded data removed]",
      "text/plain": [
       "<Figure size 432x288 with 1 Axes>"
      ]
     },
     "metadata": {
      "needs_background": "light"
     },
     "output_type": "display_data"
    }
   ],
   "source": [
    "plt.scatter(c_0[:,0],c_0[:,1],marker = 'o')\n",
    "plt.scatter(c_1[:,0],c_1[:,1],marker = '.')\n",
    "plt.scatter(c_2[:,0],c_2[:,1],marker = 'v')\n",
    "plt.scatter(c_3[:,0],c_3[:,1],marker = 's')"
   ]
  },
  {
   "cell_type": "code",
   "execution_count": 259,
   "metadata": {},
   "outputs": [
    {
     "data": {
      "text/plain": [
       "(400, 3)"
      ]
     },
     "execution_count": 259,
     "metadata": {},
     "output_type": "execute_result"
    }
   ],
   "source": [
    "All_data = np.concatenate((c_0,c_1,c_2,c_3))\n",
    "np.random.shuffle(All_data)#,将这个200行打乱,一般是shuffle第一个维度也就是行\n",
    "All_data.shape"
   ]
  },
  {
   "cell_type": "code",
   "execution_count": 260,
   "metadata": {},
   "outputs": [
    {
     "data": {
      "text/plain": [
       "((300, 2), (300, 1), (100, 2), (100, 1))"
      ]
     },
     "execution_count": 260,
     "metadata": {},
     "output_type": "execute_result"
    }
   ],
   "source": [
    "train_data_X = All_data[:300,:2]\n",
    "train_data_y = All_data[:300,-1].reshape(300,1)# 直接这样是个向量现在想要一个矩阵\n",
    "test_data_X = All_data[300:,:2]\n",
    "test_data_y = All_data[300:,-1].reshape(100,1)\n",
    "train_data_X.shape,train_data_y.shape,test_data_X.shape,test_data_y.shape"
   ]
  },
  {
   "cell_type": "code",
   "execution_count": 261,
   "metadata": {},
   "outputs": [
    {
     "data": {
      "text/plain": [
       "array([[0.99423308, 0.61476989],\n",
       "       [0.0371296 , 0.01425152],\n",
       "       [0.34210388, 0.82347172],\n",
       "       [0.86613471, 0.96081253]])"
      ]
     },
     "execution_count": 261,
     "metadata": {},
     "output_type": "execute_result"
    }
   ],
   "source": [
    "# y =wx +b   \n",
    "# y=w1*x1 + w2*x2 +b  在这里有四组w1,w2\n",
    "# 0 =w1*x1 + w2*x2 +b  \n",
    "# y = -1*(w1*x+b)/w2\n",
    "W = np.random.rand(4,2)\n",
    "W"
   ]
  },
  {
   "cell_type": "code",
   "execution_count": 262,
   "metadata": {},
   "outputs": [
    {
     "data": {
      "text/plain": [
       "(1, 4)"
      ]
     },
     "execution_count": 262,
     "metadata": {},
     "output_type": "execute_result"
    }
   ],
   "source": [
    "bias = np.random.rand(1,4)\n",
    "bias.shape\n",
    "\n"
   ]
  },
  {
   "cell_type": "code",
   "execution_count": 263,
   "metadata": {},
   "outputs": [
    {
     "data": {
      "text/plain": [
       "[<matplotlib.lines.Line2D at 0x21f5ee53b20>]"
      ]
     },
     "execution_count": 263,
     "metadata": {},
     "output_type": "execute_result"
    },
    {
     "data": {
      "image/png": "[encoded data removed]",
      "text/plain": [
       "<Figure size 432x288 with 1 Axes>"
      ]
     },
     "metadata": {
      "needs_background": "light"
     },
     "output_type": "display_data"
    }
   ],
   "source": [
    "plt.scatter(c_0[:,0],c_0[:,1],marker = 'o')\n",
    "plt.scatter(c_1[:,0],c_1[:,1],marker = '.')\n",
    "plt.scatter(c_2[:,0],c_2[:,1],marker = 'v')\n",
    "plt.scatter(c_3[:,0],c_3[:,1],marker = 's')\n",
    "x = np.arange(-5,5)\n",
    "y1 = -(W[0,0]*x +bias[0,0])/W[0,1]\n",
    "plt.plot(x,y1,'b')\n",
    "y2 = -(W[1,0]*x +bias[0,1])/W[1,1]\n",
    "plt.plot(x,y2,'y')\n",
    "y3 = -(W[2,0]*x +bias[0,2])/W[2,1]\n",
    "plt.plot(x,y3,'g')\n",
    "y4 = -(W[3,0]*x +bias[0,3])/W[3,1]\n",
    "plt.plot(x,y4,'r')"
   ]
  },
  {
   "cell_type": "code",
   "execution_count": 264,
   "metadata": {},
   "outputs": [],
   "source": [
    "#softmax(x) = e^X / sum(e^x)\n",
    "def softmax(z):\n",
    "    return np.exp(z)/np.sum(np.exp(z))"
   ]
  },
  {
   "cell_type": "code",
   "execution_count": 265,
   "metadata": {},
   "outputs": [
    {
     "data": {
      "text/plain": [
       "array([0.09003057, 0.24472847, 0.66524096])"
      ]
     },
     "execution_count": 265,
     "metadata": {},
     "output_type": "execute_result"
    }
   ],
   "source": [
    "a = np.array([1,2,3])\n",
    "softmax(a)"
   ]
  },
  {
   "cell_type": "code",
   "execution_count": 266,
   "metadata": {},
   "outputs": [
    {
     "data": {
      "text/plain": [
       "array([[0.00426978, 0.01160646, 0.03154963],\n",
       "       [0.08576079, 0.23312201, 0.63369132]])"
      ]
     },
     "execution_count": 266,
     "metadata": {},
     "output_type": "execute_result"
    }
   ],
   "source": [
    "b = np.array([1,2,3,4,5,6]).reshape(2,3)#这个是全部加完   对向量可以\n",
    "softmax(b)"
   ]
  },
  {
   "cell_type": "code",
   "execution_count": 267,
   "metadata": {},
   "outputs": [],
   "source": [
    "def softmax(z):  #矩阵需要分开每一行\n",
    "    exp = np.exp(z)\n",
    "    sum_exp = np.sum(np.exp(z),axis=1,keepdims = True)\n",
    "    return exp/sum_exp"
   ]
  },
  {
   "cell_type": "code",
   "execution_count": 268,
   "metadata": {},
   "outputs": [
    {
     "data": {
      "text/plain": [
       "array([[0.09003057, 0.24472847, 0.66524096],\n",
       "       [0.21194156, 0.21194156, 0.57611688]])"
      ]
     },
     "execution_count": 268,
     "metadata": {},
     "output_type": "execute_result"
    }
   ],
   "source": [
    "b = np.array([1,2,3,5,5,6]).reshape(2,3)#这个是全部加完   对矩阵可以\n",
    "softmax(b)"
   ]
  },
  {
   "cell_type": "code",
   "execution_count": 269,
   "metadata": {},
   "outputs": [],
   "source": [
    " # one - hot函数\n",
    " # temp 1,2,3,4 [0,0,1,0] \n",
    "def one_hot(temp):\n",
    "    one_hot = np.zeros( (len(temp) , len(np.unique(temp))) )  #行数:有多少个样本 列数:有多少个不同的元素  再加一个括号变成元组\n",
    "    one_hot[np.arange(len(temp)),temp.astype(np.int).T]=1\n",
    "    return one_hot"
   ]
  },
  {
   "cell_type": "code",
   "execution_count": 270,
   "metadata": {},
   "outputs": [
    {
     "data": {
      "text/plain": [
       "array([[0., 0., 0., 1.],\n",
       "       [0., 0., 0., 1.],\n",
       "       [0., 0., 1., 0.],\n",
       "       ...,\n",
       "       [0., 0., 0., 1.],\n",
       "       [0., 1., 0., 0.],\n",
       "       [1., 0., 0., 0.]])"
      ]
     },
     "execution_count": 270,
     "metadata": {},
     "output_type": "execute_result"
    }
   ],
   "source": [
    "one_hot( train_data_y)"
   ]
  },
  {
   "cell_type": "code",
   "execution_count": 271,
   "metadata": {},
   "outputs": [],
   "source": [
    "#计算y_hat\n",
    "def compute_y_hat(W,X,b):\n",
    "    return np.dot(X,W.T)+b"
   ]
  },
  {
   "cell_type": "code",
   "execution_count": 272,
   "metadata": {},
   "outputs": [
    {
     "data": {
      "text/plain": [
       "((300, 2), (4, 2), (1, 4))"
      ]
     },
     "execution_count": 272,
     "metadata": {},
     "output_type": "execute_result"
    }
   ],
   "source": [
    "train_data_X.shape,W.shape,bias.shape"
   ]
  },
  {
   "cell_type": "code",
   "execution_count": 273,
   "metadata": {},
   "outputs": [],
   "source": [
    "#计算交叉熵\n",
    "def cross_entropy(y,y_hat):\n",
    "    loss = -(1/len(y))*np.sum(y*np.log(y_hat))\n",
    "    return loss"
   ]
  },
  {
   "cell_type": "code",
   "execution_count": 274,
   "metadata": {},
   "outputs": [
    {
     "name": "stdout",
     "output_type": "stream",
     "text": [
      "i:1, loss: 1.833425\n",
      "i:301, loss: 0.952549\n",
      "i:601, loss: 0.518215\n",
      "i:901, loss: 0.343816\n",
      "i:1201, loss: 0.267130\n",
      "i:1501, loss: 0.224292\n",
      "i:1801, loss: 0.196245\n",
      "i:2101, loss: 0.176068\n",
      "i:2401, loss: 0.160658\n",
      "i:2701, loss: 0.148401\n",
      "i:3001, loss: 0.138360\n",
      "i:3301, loss: 0.129946\n",
      "i:3601, loss: 0.122771\n",
      "i:3901, loss: 0.116564\n",
      "i:4201, loss: 0.111130\n",
      "i:4501, loss: 0.106324\n",
      "i:4801, loss: 0.102038\n",
      "i:5101, loss: 0.098186\n",
      "i:5401, loss: 0.094703\n",
      "i:5701, loss: 0.091534\n",
      "i:6001, loss: 0.088637\n",
      "i:6301, loss: 0.085976\n",
      "i:6601, loss: 0.083521\n",
      "i:6901, loss: 0.081248\n",
      "i:7201, loss: 0.079136\n",
      "i:7501, loss: 0.077168\n",
      "i:7801, loss: 0.075329\n",
      "i:8101, loss: 0.073606\n",
      "i:8401, loss: 0.071986\n",
      "i:8701, loss: 0.070462\n",
      "i:9001, loss: 0.069023\n",
      "i:9301, loss: 0.067663\n",
      "i:9601, loss: 0.066375\n",
      "i:9901, loss: 0.065153\n"
     ]
    }
   ],
   "source": [
    "# w = w - lr*grad\n",
    "lr = 0.001\n",
    "ALL_loss=[]\n",
    "for i in range(10000):\n",
    "    #计算loss\n",
    "    X = train_data_X\n",
    "    y = one_hot(train_data_y)\n",
    "    y_hat = softmax(compute_y_hat(W,X,bias))\n",
    "    loss = cross_entropy(y,y_hat)\n",
    "    ALL_loss.append(loss)\n",
    "    #计算梯度\n",
    "    grad_w = (1/len(X))*np.dot(X.T,(y_hat - y))\n",
    "    grad_b = (1/len(X))*np.sum(y_hat -y)\n",
    "    #更新参数\n",
    "    W = W - lr*grad_w.T\n",
    "    bias = bias - lr*grad_b\n",
    "    #输出\n",
    "    if i%300 == 1:\n",
    "         print('i:%d, loss: %f'%(i,loss))"
   ]
  },
  {
   "cell_type": "code",
   "execution_count": 275,
   "metadata": {},
   "outputs": [
    {
     "data": {
      "text/plain": [
       "[<matplotlib.lines.Line2D at 0x21f5eea4f10>]"
      ]
     },
     "execution_count": 275,
     "metadata": {},
     "output_type": "execute_result"
    },
    {
     "data": {
      "image/png": "[encoded data removed]",
      "text/plain": [
       "<Figure size 432x288 with 1 Axes>"
      ]
     },
     "metadata": {
      "needs_background": "light"
     },
     "output_type": "display_data"
    }
   ],
   "source": [
    "plt.plot(ALL_loss)"
   ]
  },
  {
   "cell_type": "code",
   "execution_count": 276,
   "metadata": {},
   "outputs": [
    {
     "data": {
      "text/plain": [
       "[<matplotlib.lines.Line2D at 0x21f5ef25040>]"
      ]
     },
     "execution_count": 276,
     "metadata": {},
     "output_type": "execute_result"
    },
    {
     "data": {
      "image/png": "[encoded data removed]",
      "text/plain": [
       "<Figure size 432x288 with 1 Axes>"
      ]
     },
     "metadata": {
      "needs_background": "light"
     },
     "output_type": "display_data"
    }
   ],
   "source": [
    "plt.scatter(c_0[:,0],c_0[:,1],marker = 'o')\n",
    "plt.scatter(c_1[:,0],c_1[:,1],marker = '.')\n",
    "plt.scatter(c_2[:,0],c_2[:,1],marker = 'v')\n",
    "plt.scatter(c_3[:,0],c_3[:,1],marker = 's')\n",
    "x = np.arange(-5,5)\n",
    "y1 = -(W[0,0]*x +bias[0,0])/W[0,1]\n",
    "plt.plot(x,y1,'b')\n",
    "y2 = -(W[1,0]*x +bias[0,1])/W[1,1]\n",
    "plt.plot(x,y2,'y')\n",
    "y3 = -(W[2,0]*x +bias[0,2])/W[2,1]\n",
    "plt.plot(x,y3,'g')\n",
    "y4 = -(W[3,0]*x +bias[0,3])/W[3,1]\n",
    "plt.plot(x,y4,'r')"
   ]
  },
  {
   "cell_type": "code",
   "execution_count": 289,
   "metadata": {},
   "outputs": [
    {
     "data": {
      "text/plain": [
       "(100, 1)"
      ]
     },
     "execution_count": 289,
     "metadata": {},
     "output_type": "execute_result"
    }
   ],
   "source": [
    "#测试集预测\n",
    "test_data_y.shape\n",
    "# test_data_y"
   ]
  },
  {
   "cell_type": "code",
   "execution_count": 278,
   "metadata": {},
   "outputs": [],
   "source": [
    "def predict(x):\n",
    "    y_hat = softmax(compute_y_hat(W,x,bias)) #100,4  最新的W 最新的bias\n",
    "    return np.argmax(y_hat,axis = 1) #最大的位置 第二维度比较"
   ]
  },
  {
   "cell_type": "code",
   "execution_count": 279,
   "metadata": {},
   "outputs": [
    {
     "data": {
      "text/plain": [
       "(100,)"
      ]
     },
     "execution_count": 279,
     "metadata": {},
     "output_type": "execute_result"
    }
   ],
   "source": [
    "predict(test_data_X).shape"
   ]
  },
  {
   "cell_type": "code",
   "execution_count": 286,
   "metadata": {},
   "outputs": [],
   "source": [
    "a=predict(test_data_X).reshape(100,1)"
   ]
  },
  {
   "cell_type": "code",
   "execution_count": 290,
   "metadata": {},
   "outputs": [],
   "source": [
    "# a"
   ]
  },
  {
   "cell_type": "code",
   "execution_count": 288,
   "metadata": {},
   "outputs": [
    {
     "data": {
      "text/plain": [
       "1.0"
      ]
     },
     "execution_count": 288,
     "metadata": {},
     "output_type": "execute_result"
    }
   ],
   "source": [
    "np.sum(a == test_data_y)/len(test_data_y)"
   ]
  },
  {
   "cell_type": "code",
   "execution_count": 282,
   "metadata": {},
   "outputs": [
    {
     "data": {
      "text/plain": [
       "array([[ True, False, False, ...,  True, False, False],\n",
       "       [False,  True, False, ..., False,  True, False],\n",
       "       [False, False,  True, ..., False, False, False],\n",
       "       ...,\n",
       "       [ True, False, False, ...,  True, False, False],\n",
       "       [False,  True, False, ..., False,  True, False],\n",
       "       [False, False, False, ..., False, False,  True]])"
      ]
     },
     "execution_count": 282,
     "metadata": {},
     "output_type": "execute_result"
    }
   ],
   "source": [
    "predict(test_data_X) == test_data_y"
   ]
  },
  {
   "cell_type": "code",
   "execution_count": null,
   "metadata": {},
   "outputs": [],
   "source": []
  }
 ],
 "metadata": {
  "kernelspec": {
   "display_name": "Python 3",
   "language": "python",
   "name": "python3"
  },
  "language_info": {
   "codemirror_mode": {
    "name": "ipython",
    "version": 3
   },
   "file_extension": ".py",
   "mimetype": "text/x-python",
   "name": "python",
   "nbconvert_exporter": "python",
   "pygments_lexer": "ipython3",
   "version": "3.8.5"
  }
 },
 "nbformat": 4,
 "nbformat_minor": 4
}
