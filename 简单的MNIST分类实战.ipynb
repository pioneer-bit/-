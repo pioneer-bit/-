{
 "cells": [
  {
   "cell_type": "markdown",
   "metadata": {},
   "source": [
    "   ### 1 前馈神经网络进行MNIST数据集分类实战"
   ]
  },
  {
   "cell_type": "code",
   "execution_count": 25,
   "metadata": {},
   "outputs": [],
   "source": [
    "import tensorflow as tf\n",
    "import matplotlib.pyplot as plt"
   ]
  },
  {
   "cell_type": "markdown",
   "metadata": {},
   "source": [
    "#### 输入层 h0 784 =28*28\n",
    "#### 隐藏层 h1 256 \n",
    "#### 隐藏层 h2 128\n",
    "#### 输出层 h3 10"
   ]
  },
  {
   "cell_type": "code",
   "execution_count": 26,
   "metadata": {},
   "outputs": [],
   "source": [
    "# 初始化参数\n",
    "w1 = tf.Variable(tf.random.truncated_normal([784,256],stddev = 0.1)) #一个范围内的正态分布\n",
    "w2 = tf.Variable(tf.random.truncated_normal([256,128],stddev = 0.1))\n",
    "w3 = tf.Variable(tf.random.truncated_normal([128,10],stddev = 0.1))\n",
    "                 \n",
    "b1 = tf.Variable(tf.zeros([256]))\n",
    "b2 = tf.Variable(tf.zeros([128]))\n",
    "b3 = tf.Variable(tf.zeros([10]))"
   ]
  },
  {
   "cell_type": "code",
   "execution_count": 27,
   "metadata": {},
   "outputs": [
    {
     "data": {
      "text/plain": [
       "<tf.Variable 'Variable:0' shape=(784, 256) dtype=float32, numpy=\n",
       "array([[-0.0473101 , -0.1023425 , -0.007532  , ...,  0.12226011,\n",
       "         0.05271397, -0.15120882],\n",
       "       [ 0.0586805 ,  0.07880794,  0.04557928, ..., -0.19437794,\n",
       "        -0.11666639,  0.07392412],\n",
       "       [ 0.1128264 ,  0.08190385, -0.04114777, ..., -0.0739453 ,\n",
       "         0.04238528,  0.13701752],\n",
       "       ...,\n",
       "       [ 0.1123647 ,  0.02596165,  0.12567185, ...,  0.01706166,\n",
       "        -0.0364383 ,  0.01764593],\n",
       "       [ 0.06904992, -0.00629739,  0.0677925 , ...,  0.172207  ,\n",
       "        -0.03655482, -0.03309697],\n",
       "       [-0.00405733,  0.08376485,  0.01835093, ..., -0.07563334,\n",
       "         0.0714797 , -0.10661042]], dtype=float32)>"
      ]
     },
     "execution_count": 27,
     "metadata": {},
     "output_type": "execute_result"
    }
   ],
   "source": [
    "w1\n"
   ]
  },
  {
   "cell_type": "code",
   "execution_count": 28,
   "metadata": {},
   "outputs": [],
   "source": [
    "(x_train,y_train),(x_test,y_test)=tf.keras.datasets.mnist.load_data('C:\\jupyter_workspace\\MNIST_npz\\mnist.npz')"
   ]
  },
  {
   "cell_type": "code",
   "execution_count": 29,
   "metadata": {},
   "outputs": [
    {
     "data": {
      "text/plain": [
       "((60000, 28, 28), (60000,), (10000, 28, 28), (10000,))"
      ]
     },
     "execution_count": 29,
     "metadata": {},
     "output_type": "execute_result"
    }
   ],
   "source": [
    "x_train.shape,y_train.shape,x_test.shape,y_test.shape"
   ]
  },
  {
   "cell_type": "code",
   "execution_count": 30,
   "metadata": {},
   "outputs": [
    {
     "data": {
      "text/plain": [
       "numpy.ndarray"
      ]
     },
     "execution_count": 30,
     "metadata": {},
     "output_type": "execute_result"
    }
   ],
   "source": [
    "type(x_train)"
   ]
  },
  {
   "cell_type": "code",
   "execution_count": 31,
   "metadata": {},
   "outputs": [],
   "source": [
    "x_train = tf.convert_to_tensor(x_train,dtype = tf.float32)/255.\n",
    "y_train = tf.convert_to_tensor(y_train,dtype = tf.int32)"
   ]
  },
  {
   "cell_type": "code",
   "execution_count": 32,
   "metadata": {},
   "outputs": [
    {
     "data": {
      "text/plain": [
       "TensorShape([60000, 784])"
      ]
     },
     "execution_count": 32,
     "metadata": {},
     "output_type": "execute_result"
    }
   ],
   "source": [
    "# (60000,784)\n",
    "x_train = tf.reshape( x_train ,[-1,784]) #-1就是指任意多个\n",
    "x_train.shape"
   ]
  },
  {
   "cell_type": "code",
   "execution_count": 33,
   "metadata": {},
   "outputs": [
    {
     "data": {
      "text/plain": [
       "tensorflow.python.framework.ops.EagerTensor"
      ]
     },
     "execution_count": 33,
     "metadata": {},
     "output_type": "execute_result"
    }
   ],
   "source": [
    "type(x_train)"
   ]
  },
  {
   "cell_type": "markdown",
   "metadata": {},
   "source": [
    "## 完成一次前向计算"
   ]
  },
  {
   "cell_type": "code",
   "execution_count": 34,
   "metadata": {},
   "outputs": [
    {
     "data": {
      "text/plain": [
       "(TensorShape([60000, 784]), TensorShape([784, 256]), TensorShape([256]))"
      ]
     },
     "execution_count": 34,
     "metadata": {},
     "output_type": "execute_result"
    }
   ],
   "source": [
    "x_train.shape,w1.shape,b1.shape"
   ]
  },
  {
   "cell_type": "code",
   "execution_count": 35,
   "metadata": {},
   "outputs": [],
   "source": [
    "# h1 :net1(z=sum(wx+b))  out1(relu(z))\n",
    "#[60000,784]@[784*256]+[256]\n",
    "net1 = x_train@w1 +tf.broadcast_to(b1,[x_train.shape[0],256])\n",
    "# net1 = x_train@w1 +b1 #实际上自动广播  @即是矩阵乘法\n",
    "out1 = tf.nn.relu(net1 )"
   ]
  },
  {
   "cell_type": "code",
   "execution_count": 36,
   "metadata": {},
   "outputs": [],
   "source": [
    "# h2 :net2(z=sum(wx+b))  out2(relu(z))\n",
    "#[60000,784]@[784*128]+[128]\n",
    "net2 = out1 @ w2 + b2\n",
    "out2 = tf.nn.relu(net2)"
   ]
  },
  {
   "cell_type": "code",
   "execution_count": 37,
   "metadata": {},
   "outputs": [
    {
     "data": {
      "text/plain": [
       "TensorShape([60000, 10])"
      ]
     },
     "execution_count": 37,
     "metadata": {},
     "output_type": "execute_result"
    }
   ],
   "source": [
    "# h3 :net3(z=sum(wx+b))  out3(relu(z))\n",
    "#[60000,128]@[784*256]+256\n",
    "net3 = out2 @ w3 + b3\n",
    "out3 = tf.nn.softmax(net3)\n",
    "out3.shape"
   ]
  },
  {
   "cell_type": "code",
   "execution_count": 38,
   "metadata": {},
   "outputs": [
    {
     "data": {
      "text/plain": [
       "<tf.Tensor: shape=(60000, 10), dtype=float32, numpy=\n",
       "array([[0.06308786, 0.08336931, 0.08083078, ..., 0.32410648, 0.09790603,\n",
       "        0.03795485],\n",
       "       [0.05071559, 0.10446056, 0.05598309, ..., 0.34575722, 0.15220098,\n",
       "        0.0444854 ],\n",
       "       [0.06714071, 0.11776586, 0.21202196, ..., 0.14405109, 0.03782846,\n",
       "        0.03597069],\n",
       "       ...,\n",
       "       [0.16233772, 0.11622971, 0.07595493, ..., 0.20473418, 0.08152255,\n",
       "        0.030886  ],\n",
       "       [0.1409367 , 0.07707907, 0.08774552, ..., 0.21531983, 0.08783928,\n",
       "        0.05399894],\n",
       "       [0.1167386 , 0.11088224, 0.0858992 , ..., 0.18310922, 0.09794047,\n",
       "        0.04193165]], dtype=float32)>"
      ]
     },
     "execution_count": 38,
     "metadata": {},
     "output_type": "execute_result"
    }
   ],
   "source": [
    "out3"
   ]
  },
  {
   "cell_type": "code",
   "execution_count": 39,
   "metadata": {},
   "outputs": [
    {
     "data": {
      "text/plain": [
       "<tf.Tensor: shape=(60000,), dtype=int32, numpy=array([5, 0, 4, ..., 5, 6, 8])>"
      ]
     },
     "execution_count": 39,
     "metadata": {},
     "output_type": "execute_result"
    }
   ],
   "source": [
    "y_train"
   ]
  },
  {
   "cell_type": "code",
   "execution_count": 40,
   "metadata": {},
   "outputs": [
    {
     "data": {
      "text/plain": [
       "<tf.Tensor: shape=(60000, 10), dtype=float32, numpy=\n",
       "array([[0., 0., 0., ..., 0., 0., 0.],\n",
       "       [1., 0., 0., ..., 0., 0., 0.],\n",
       "       [0., 0., 0., ..., 0., 0., 0.],\n",
       "       ...,\n",
       "       [0., 0., 0., ..., 0., 0., 0.],\n",
       "       [0., 0., 0., ..., 0., 0., 0.],\n",
       "       [0., 0., 0., ..., 0., 1., 0.]], dtype=float32)>"
      ]
     },
     "execution_count": 40,
     "metadata": {},
     "output_type": "execute_result"
    }
   ],
   "source": [
    "y_train = tf.one_hot(y_train,depth=10)\n",
    "y_train"
   ]
  },
  {
   "cell_type": "code",
   "execution_count": 41,
   "metadata": {},
   "outputs": [
    {
     "data": {
      "text/plain": [
       "TensorShape([60000, 10])"
      ]
     },
     "execution_count": 41,
     "metadata": {},
     "output_type": "execute_result"
    }
   ],
   "source": [
    "y_train.shape"
   ]
  },
  {
   "cell_type": "code",
   "execution_count": 42,
   "metadata": {},
   "outputs": [
    {
     "data": {
      "text/plain": [
       "<tf.Tensor: shape=(), dtype=float32, numpy=2.2964115>"
      ]
     },
     "execution_count": 42,
     "metadata": {},
     "output_type": "execute_result"
    }
   ],
   "source": [
    "loss = tf.nn.softmax_cross_entropy_with_logits(labels = y_train,logits = out3)\n",
    "loss = tf.reduce_mean(loss)#求均值\n",
    "loss"
   ]
  },
  {
   "cell_type": "markdown",
   "metadata": {},
   "source": [
    "### 一次反向传播"
   ]
  },
  {
   "cell_type": "code",
   "execution_count": 43,
   "metadata": {},
   "outputs": [],
   "source": [
    "with tf.GradientTape() as tape:\n",
    "    tape.watch([w1,b1,w2,b2,w3,b3])\n",
    "    out3 = tf.nn.softmax(tf.nn.relu(tf.nn.relu(x_train@w1 +b1 ) @ w2 + b2) @ w3 + b3)\n",
    "    loss = tf.reduce_mean(tf.nn.softmax_cross_entropy_with_logits(labels = y_train,logits = out3))"
   ]
  },
  {
   "cell_type": "code",
   "execution_count": 44,
   "metadata": {},
   "outputs": [
    {
     "data": {
      "text/plain": [
       "<tf.Tensor: shape=(), dtype=float32, numpy=2.2964115>"
      ]
     },
     "execution_count": 44,
     "metadata": {},
     "output_type": "execute_result"
    }
   ],
   "source": [
    "loss"
   ]
  },
  {
   "cell_type": "code",
   "execution_count": 45,
   "metadata": {},
   "outputs": [],
   "source": [
    "grads = tape.gradient(loss,[w1,b1,w2,b2,w3,b3])"
   ]
  },
  {
   "cell_type": "code",
   "execution_count": 46,
   "metadata": {},
   "outputs": [],
   "source": [
    "lr = 0.01"
   ]
  },
  {
   "cell_type": "code",
   "execution_count": 47,
   "metadata": {},
   "outputs": [],
   "source": [
    "#更新参数\n",
    "# w = w-lr*grads\n"
   ]
  },
  {
   "cell_type": "code",
   "execution_count": null,
   "metadata": {},
   "outputs": [
    {
     "name": "stdout",
     "output_type": "stream",
     "text": [
      "0 loss: 2.2964115142822266\n",
      "100 loss: 2.2769994735717773\n",
      "200 loss: 2.248997211456299\n",
      "300 loss: 2.2043306827545166\n",
      "400 loss: 2.156979560852051\n",
      "500 loss: 2.1069881916046143\n",
      "600 loss: 2.0567824840545654\n",
      "700 loss: 2.01214599609375\n",
      "800 loss: 1.972558617591858\n"
     ]
    }
   ],
   "source": [
    "All_loss=[]\n",
    "for step in range(1001):\n",
    "    with tf.GradientTape() as tape:\n",
    "        tape.watch([w1,b1,w2,b2,w3,b3])\n",
    "        out3 = tf.nn.softmax(tf.nn.relu(tf.nn.relu(x_train@w1 +b1 ) @ w2 + b2) @ w3 + b3)\n",
    "        loss = tf.reduce_mean(tf.nn.softmax_cross_entropy_with_logits(labels = y_train,logits = out3))\n",
    "    All_loss.append(loss)\n",
    "    grads = tape.gradient(loss,[w1,b1,w2,b2,w3,b3])\n",
    "    #更新参数\n",
    "    w1 = w1-lr*grads[0]\n",
    "    b1 = b1-lr*grads[1]\n",
    "    w2 = w2-lr*grads[2]\n",
    "    b2 = b2-lr*grads[3]\n",
    "    w3 = w3-lr*grads[4]\n",
    "    b3 = b3-lr*grads[5]\n",
    "    if step%100 ==0:\n",
    "        print(step,'loss:',float(loss))\n",
    "    \n",
    "    "
   ]
  },
  {
   "cell_type": "code",
   "execution_count": null,
   "metadata": {},
   "outputs": [],
   "source": [
    "%time plt.plot(All_loss)"
   ]
  },
  {
   "cell_type": "markdown",
   "metadata": {},
   "source": [
    "## 测试模型"
   ]
  },
  {
   "cell_type": "code",
   "execution_count": null,
   "metadata": {},
   "outputs": [],
   "source": [
    "x_test = tf.convert_to_tensor(x_test,dtype = tf.float32)/255.\n",
    "y_test = tf.convert_to_tensor(y_test,dtype = tf.int32)\n",
    "x_test = tf.reshape(x_test ,[-1,784]) #-1就是指任意多个"
   ]
  },
  {
   "cell_type": "code",
   "execution_count": null,
   "metadata": {},
   "outputs": [],
   "source": [
    "out3 = tf.nn.softmax(tf.nn.relu(tf.nn.relu(x_test@w1 +b1 ) @ w2 + b2) @ w3 + b3)\n",
    "out3"
   ]
  },
  {
   "cell_type": "code",
   "execution_count": null,
   "metadata": {},
   "outputs": [],
   "source": [
    "y_predict = tf.math.argmax(out3,axis=-1)"
   ]
  },
  {
   "cell_type": "code",
   "execution_count": null,
   "metadata": {},
   "outputs": [],
   "source": [
    "y_predict,y_test"
   ]
  },
  {
   "cell_type": "code",
   "execution_count": null,
   "metadata": {},
   "outputs": [],
   "source": [
    "y_test = tf.cast(y_test,tf.int64) #强制转换"
   ]
  },
  {
   "cell_type": "code",
   "execution_count": null,
   "metadata": {},
   "outputs": [],
   "source": [
    "y_c=tf.math.equal(y_predict,y_test)\n",
    "y_c"
   ]
  },
  {
   "cell_type": "code",
   "execution_count": null,
   "metadata": {},
   "outputs": [],
   "source": [
    "y_c = tf.cast(y_c,tf.int64)\n",
    "y_c"
   ]
  },
  {
   "cell_type": "code",
   "execution_count": null,
   "metadata": {},
   "outputs": [],
   "source": [
    "r = tf.math.reduce_sum(y_c) / 10000\n",
    "r.numpy()"
   ]
  }
 ],
 "metadata": {
  "kernelspec": {
   "display_name": "Python 3",
   "language": "python",
   "name": "python3"
  },
  "language_info": {
   "codemirror_mode": {
    "name": "ipython",
    "version": 3
   },
   "file_extension": ".py",
   "mimetype": "text/x-python",
   "name": "python",
   "nbconvert_exporter": "python",
   "pygments_lexer": "ipython3",
   "version": "3.8.5"
  }
 },
 "nbformat": 4,
 "nbformat_minor": 4
}
